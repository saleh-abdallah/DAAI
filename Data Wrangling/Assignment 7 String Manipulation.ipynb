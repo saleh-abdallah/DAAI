{
 "cells": [
  {
   "cell_type": "markdown",
   "metadata": {},
   "source": [
    "Name: Saleh Abdallah"
   ]
  },
  {
   "cell_type": "code",
   "execution_count": 92,
   "metadata": {},
   "outputs": [],
   "source": [
    "import pandas as pd\n",
    "import re\n",
    "import warnings\n",
    "warnings.filterwarnings(\"ignore\")"
   ]
  },
  {
   "cell_type": "code",
   "execution_count": 93,
   "metadata": {},
   "outputs": [
    {
     "name": "stdout",
     "output_type": "stream",
     "text": [
      "Hello world 2024\n",
      "Welcome message: Hello world 2024\n",
      "data science is awesome\n"
     ]
    }
   ],
   "source": [
    "# String Concatenation\n",
    "# Concatenate the strings \"Hello\", \"world\", and \"2024\" using the '+' operator.\n",
    "text_concat = 'Hello' + ' ' + 'world' + ' ' + '2024'\n",
    "print(text_concat)\n",
    "\n",
    "# Use an f-string to concatenate and format the same strings into a sentence.\n",
    "print(f'Welcome message: {text_concat}')\n",
    "\n",
    "# Join the strings [\"data\", \"science\", \"is\", \"awesome\"] with a space separator using the join method.\n",
    "ds_words = [\"data\", \"science\", \"is\", \"awesome\"]\n",
    "ds_sentence = ' '.join(ds_words)\n",
    "print(ds_sentence)"
   ]
  },
  {
   "cell_type": "code",
   "execution_count": 94,
   "metadata": {},
   "outputs": [
    {
     "name": "stdout",
     "output_type": "stream",
     "text": [
      "step by step\n",
      "science\n"
     ]
    }
   ],
   "source": [
    "# Substring Extraction\n",
    "# Print the second part of the string \"Learn Python step by step\".\n",
    "str1 = \"Learn Python step by step\"\n",
    "print(str1[13:])   # assuming part 1: Learn Python and part 2: step by step\n",
    "\n",
    "# Extract and print the substring \"science\" from the string \"data science is interesting\".\n",
    "str2 = \"data science is interesting\"\n",
    "print(str2[5:12])"
   ]
  },
  {
   "cell_type": "code",
   "execution_count": 104,
   "metadata": {},
   "outputs": [
    {
     "name": "stdout",
     "output_type": "stream",
     "text": [
      "The value of pi is approximately 3.14159\n",
      "The value of pi to two decimal places is 3.14\n",
      "The value of pi with three decimal places is 3.142\n"
     ]
    }
   ],
   "source": [
    "# String Formatting\n",
    "# Format the string \"The value of pi is approximately\" with the value of pi using the format() method.\n",
    "pi = 3.14159\n",
    "print(\"The value of pi is approximately {}\".format(pi))\n",
    "\n",
    "# Use an f-string to format the string \"The value of pi to two decimal places is\" with the value 3.14.\n",
    "print(f\"The value of pi to two decimal places is {pi:.2f}\")\n",
    "\n",
    "# Format the string \"The value of pi is\" using the % operator and display it with three decimal places.\n",
    "print(\"The value of pi with three decimal places is %.3f\" % pi)"
   ]
  },
  {
   "cell_type": "code",
   "execution_count": 96,
   "metadata": {},
   "outputs": [
    {
     "name": "stdout",
     "output_type": "stream",
     "text": [
      "['apple', 'banana', 'orange', 'grape']\n",
      "['This', 'is', 'a', 'sentence', 'with', 'multiple', 'spaces']\n"
     ]
    }
   ],
   "source": [
    "# String Splitting\n",
    "# Split the sentence \"apple,banana,orange,grape\" by commas.\n",
    "print(\"apple,banana,orange,grape\".split(','))\n",
    "\n",
    "# Split the text \"This is a sentence with multiple spaces\" by multiple spaces.\n",
    "print(\"This is a sentence with multiple spaces\".split())"
   ]
  },
  {
   "cell_type": "code",
   "execution_count": 97,
   "metadata": {},
   "outputs": [
    {
     "name": "stdout",
     "output_type": "stream",
     "text": [
      "Hello, world!\n",
      "['Python', 'programming']\n"
     ]
    }
   ],
   "source": [
    "# String Stripping\n",
    "# Remove leading and trailing whitespaces from the string \" Hello, world! \".\n",
    "print(\" Hello, world! \".strip())\n",
    "\n",
    "# Split the string \" Python programming \" into words and strip the whitespaces.\n",
    "print(\" Python programming \".strip().split())"
   ]
  },
  {
   "cell_type": "code",
   "execution_count": 98,
   "metadata": {},
   "outputs": [
    {
     "name": "stdout",
     "output_type": "stream",
     "text": [
      "This is a good example\n"
     ]
    }
   ],
   "source": [
    "# String Replacement\n",
    "# Replace the word \"bad\" with \"good\" in the string \"This is a bad example\".\n",
    "print(\"This is a bad example\".replace('bad','good'))"
   ]
  },
  {
   "cell_type": "code",
   "execution_count": 106,
   "metadata": {},
   "outputs": [
    {
     "name": "stdout",
     "output_type": "stream",
     "text": [
      "The index of the substring \"Python\" in the string \"Learn Python step by step\" is 6\n",
      "The index of the substring \"programming\" in the string \"Python programming is fun\" is 7\n",
      "The count of occurrences of \"is\" in the string \"This is a test. This is only a test.\" is 4\n"
     ]
    }
   ],
   "source": [
    "# String Searching\n",
    "# Use the index method to find the starting index of the substring \"Python\" in the string \"Learn Python step by step\".\n",
    "index = \"Learn Python step by step\".index('Python')\n",
    "print(f'The index of the substring \"Python\" in the string \"Learn Python step by step\" is {index}')\n",
    "\n",
    "# Use the find method to find the starting index of the substring \"programming\" in the string \"Python programming is fun\".\n",
    "find = \"Python programming is fun\".find('programming')\n",
    "print(f'The index of the substring \"programming\" in the string \"Python programming is fun\" is {find}')\n",
    "\n",
    "# Use the count method to count the occurrence of the substring \"is\" in the string \"This is a test. This is only a test.\"\n",
    "count = \"This is a test. This is only a test.\".count('is')\n",
    "print(f'The count of occurrences of \"is\" in the string \"This is a test. This is only a test.\" is {count}')"
   ]
  },
  {
   "cell_type": "code",
   "execution_count": null,
   "metadata": {},
   "outputs": [
    {
     "data": {
      "text/plain": [
       "['one', 'two', 'three', 'four']"
      ]
     },
     "execution_count": 100,
     "metadata": {},
     "output_type": "execute_result"
    }
   ],
   "source": [
    "# Regular Expression\n",
    "# Compile a regular expression pattern to split the text \"one1two2three3four4\" into words.\n",
    "text = \"one1two2three3four4\"\n",
    "pattern = re.compile(r'\\d+')\n",
    "words = pattern.split(text)\n",
    "# Remove empty strings from words\n",
    "result = []\n",
    "for x in words:\n",
    "    if x:\n",
    "        result.append(x)\n",
    "result"
   ]
  },
  {
   "cell_type": "code",
   "execution_count": 101,
   "metadata": {},
   "outputs": [
    {
     "data": {
      "text/plain": [
       "['My', 'phone', 'number', 'is']"
      ]
     },
     "execution_count": 101,
     "metadata": {},
     "output_type": "execute_result"
    }
   ],
   "source": [
    "# Use the findall function to find all word patterns in the string \"My phone number is 123-456-7890\".\n",
    "text = \"My phone number is 123-456-7890\"\n",
    "pattern = r'[A-Za-z]+'\n",
    "words = re.findall(pattern, text)\n",
    "words"
   ]
  },
  {
   "cell_type": "code",
   "execution_count": 102,
   "metadata": {},
   "outputs": [
    {
     "name": "stdout",
     "output_type": "stream",
     "text": [
      "Substring 'number' is found!\n",
      "Start position: 8\n",
      "End position: 14\n"
     ]
    }
   ],
   "source": [
    "# Use the search function to find the first occurrence of the pattern \"number\" in the string \"Contact number: 9876543210\".\n",
    "text = \"Contact number: 9876543210\"\n",
    "pattern = r'number'\n",
    "search = re.search(pattern, text)\n",
    "if search:\n",
    "    print(\"Substring 'number' is found!\") \n",
    "    print(\"Start position:\", search.start()) \n",
    "    print(\"End position:\", search.end()) "
   ]
  },
  {
   "cell_type": "code",
   "execution_count": 108,
   "metadata": {},
   "outputs": [
    {
     "name": "stdout",
     "output_type": "stream",
     "text": [
      "Match found: Py\n"
     ]
    }
   ],
   "source": [
    "# Use the match function to check if the string \"Python\" starts with the pattern \"Py\".\n",
    "text = \"Python\"\n",
    "pattern = r'Py'\n",
    "match = re.match(pattern, text)\n",
    "if match:\n",
    "    print(\"Match found:\", match.group())\n",
    "else:\n",
    "    print(\"No match found.\")"
   ]
  }
 ],
 "metadata": {
  "kernelspec": {
   "display_name": "base",
   "language": "python",
   "name": "python3"
  },
  "language_info": {
   "codemirror_mode": {
    "name": "ipython",
    "version": 3
   },
   "file_extension": ".py",
   "mimetype": "text/x-python",
   "name": "python",
   "nbconvert_exporter": "python",
   "pygments_lexer": "ipython3",
   "version": "3.12.3"
  }
 },
 "nbformat": 4,
 "nbformat_minor": 2
}
