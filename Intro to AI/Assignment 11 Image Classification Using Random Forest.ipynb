{
 "cells": [
  {
   "cell_type": "markdown",
   "metadata": {},
   "source": [
    "Name: Saleh Abdallah"
   ]
  },
  {
   "cell_type": "code",
   "execution_count": null,
   "metadata": {},
   "outputs": [],
   "source": [
    "import numpy as np\n",
    "import matplotlib.pyplot as plt\n",
    "import seaborn as sns\n",
    "from PIL import Image\n",
    "from sklearn.datasets import load_files\n",
    "from sklearn.model_selection import train_test_split, GridSearchCV\n",
    "from sklearn.ensemble import RandomForestClassifier\n",
    "from sklearn.svm import SVC\n",
    "from sklearn.metrics import classification_report"
   ]
  },
  {
   "cell_type": "markdown",
   "metadata": {},
   "source": [
    "Load and preprocess image dataset"
   ]
  },
  {
   "cell_type": "code",
   "execution_count": null,
   "metadata": {},
   "outputs": [],
   "source": [
    "def load_images(folder_path, size=(64, 64)):\n",
    "    data = load_files(folder_path)\n",
    "    file_paths = np.array(data['filenames'])\n",
    "    labels = np.array(data['target'])\n",
    "    label_names = np.array(data['target_names'])\n",
    "\n",
    "    images = []\n",
    "    for i_path in file_paths:\n",
    "        img = Image.open(i_path).convert('RGB').resize(size)\n",
    "        img_array = np.array(img) / 255.0\n",
    "        images.append(img_array)\n",
    "\n",
    "    X = np.array(images).reshape(len(images), -1)  \n",
    "    return X, labels, label_names"
   ]
  },
  {
   "cell_type": "markdown",
   "metadata": {},
   "source": [
    "Load data"
   ]
  },
  {
   "cell_type": "code",
   "execution_count": 39,
   "metadata": {},
   "outputs": [],
   "source": [
    "folder_path = r'C:\\Users\\saleh.abdallah\\Downloads\\DAAI - Willis\\12 Introduction to Artificial Intelligence\\Assignment 11 Image Classification Using Random Forest\\images'\n",
    "X, y, label_names = load_images(folder_path)"
   ]
  },
  {
   "cell_type": "markdown",
   "metadata": {},
   "source": [
    "Train-test split"
   ]
  },
  {
   "cell_type": "code",
   "execution_count": null,
   "metadata": {},
   "outputs": [],
   "source": [
    "X_train, X_test, y_train, y_test = train_test_split(X, y, test_size=0.2, random_state=42)"
   ]
  },
  {
   "cell_type": "markdown",
   "metadata": {},
   "source": [
    "Random Forest Classifier"
   ]
  },
  {
   "cell_type": "code",
   "execution_count": null,
   "metadata": {},
   "outputs": [
    {
     "name": "stdout",
     "output_type": "stream",
     "text": [
      "Fitting 3 folds for each of 16 candidates, totalling 48 fits\n"
     ]
    }
   ],
   "source": [
    "param_grid_rf = {\n",
    "    'n_estimators': [50, 100],\n",
    "    'max_depth': [None, 10],\n",
    "    'min_samples_split': [2, 5],\n",
    "    'min_samples_leaf': [1, 2]\n",
    "}\n",
    "rf = RandomForestClassifier(random_state=42)\n",
    "grid_rf = GridSearchCV(rf, param_grid_rf, cv=3, n_jobs=-1, verbose=1)\n",
    "grid_rf.fit(X_train, y_train)\n",
    "best_rf = grid_rf.best_estimator_"
   ]
  },
  {
   "cell_type": "markdown",
   "metadata": {},
   "source": [
    "Random Forest Evaluation"
   ]
  },
  {
   "cell_type": "code",
   "execution_count": null,
   "metadata": {},
   "outputs": [
    {
     "name": "stdout",
     "output_type": "stream",
     "text": [
      "RF Classification Report:\n",
      "               precision    recall  f1-score   support\n",
      "\n",
      "   dalmatian       0.85      0.69      0.76        16\n",
      " dollar_bill       0.69      0.90      0.78        10\n",
      "       pizza       0.82      0.90      0.86        10\n",
      " soccer_ball       0.50      0.50      0.50         6\n",
      "   sunflower       1.00      0.95      0.97        20\n",
      "\n",
      "    accuracy                           0.82        62\n",
      "   macro avg       0.77      0.79      0.77        62\n",
      "weighted avg       0.83      0.82      0.82        62\n",
      "\n"
     ]
    }
   ],
   "source": [
    "y_pred_rf = best_rf.predict(X_test)\n",
    "print(\"RF Classification Report:\\n\", classification_report(y_test, y_pred_rf, target_names=label_names))"
   ]
  },
  {
   "cell_type": "markdown",
   "metadata": {},
   "source": [
    "SVM Classifier"
   ]
  },
  {
   "cell_type": "code",
   "execution_count": null,
   "metadata": {},
   "outputs": [
    {
     "name": "stdout",
     "output_type": "stream",
     "text": [
      "Fitting 3 folds for each of 4 candidates, totalling 12 fits\n"
     ]
    }
   ],
   "source": [
    "param_grid_svm = {'C': [1, 10], 'kernel': ['linear', 'rbf']}\n",
    "svm = SVC()\n",
    "grid_svm = GridSearchCV(svm, param_grid_svm, cv=3, n_jobs=-1, verbose=1)\n",
    "grid_svm.fit(X_train, y_train)\n",
    "best_svm = grid_svm.best_estimator_"
   ]
  },
  {
   "cell_type": "markdown",
   "metadata": {},
   "source": [
    "SVM Evaluation"
   ]
  },
  {
   "cell_type": "code",
   "execution_count": null,
   "metadata": {},
   "outputs": [
    {
     "name": "stdout",
     "output_type": "stream",
     "text": [
      "SVM Classification Report:\n",
      "               precision    recall  f1-score   support\n",
      "\n",
      "   dalmatian       0.83      0.62      0.71        16\n",
      " dollar_bill       0.62      0.80      0.70        10\n",
      "       pizza       1.00      0.60      0.75        10\n",
      " soccer_ball       0.22      0.33      0.27         6\n",
      "   sunflower       0.91      1.00      0.95        20\n",
      "\n",
      "    accuracy                           0.74        62\n",
      "   macro avg       0.72      0.67      0.68        62\n",
      "weighted avg       0.79      0.74      0.75        62\n",
      "\n"
     ]
    }
   ],
   "source": [
    "y_pred_svm = best_svm.predict(X_test)\n",
    "print(\"SVM Classification Report:\\n\", classification_report(y_test, y_pred_svm, target_names=label_names))"
   ]
  },
  {
   "cell_type": "markdown",
   "metadata": {},
   "source": [
    "Interpretation of Results\n",
    "\n",
    "Random Forest performed better than SVM overall with accuracy of 82% vs 74%. F1 score was also higher at 77% vs 68%. Sunflower was the best class to predict whereas soccer ball was the weakest class in both precision and recall. "
   ]
  },
  {
   "cell_type": "markdown",
   "metadata": {},
   "source": [
    "Prediction - RF & SVM"
   ]
  },
  {
   "cell_type": "code",
   "execution_count": 36,
   "metadata": {},
   "outputs": [
    {
     "name": "stdout",
     "output_type": "stream",
     "text": [
      "Predicted Class - RandomForestClassifier(min_samples_leaf=2, min_samples_split=5, random_state=42): sunflower\n",
      "Predicted Class - SVC(C=10): sunflower\n"
     ]
    }
   ],
   "source": [
    "def predict_image(model, image_path, size=(64, 64)):\n",
    "    img = Image.open(image_path).convert('RGB').resize(size)\n",
    "    img_array = np.array(img) / 255.0\n",
    "    img_flat = img_array.reshape(1, -1)\n",
    "    pred = model.predict(img_flat)[0]\n",
    "    print(f\"Predicted Class - {model}: {label_names[pred]}\")\n",
    "\n",
    "\n",
    "predict_image(best_rf, r'C:\\Users\\saleh.abdallah\\Downloads\\DAAI - Willis\\12 Introduction to Artificial Intelligence\\Assignment 11 Image Classification Using Random Forest\\images\\images.jpg')\n",
    "predict_image(best_svm, r'C:\\Users\\saleh.abdallah\\Downloads\\DAAI - Willis\\12 Introduction to Artificial Intelligence\\Assignment 11 Image Classification Using Random Forest\\images\\images.jpg')"
   ]
  }
 ],
 "metadata": {
  "colab": {
   "provenance": []
  },
  "kernelspec": {
   "display_name": "base",
   "language": "python",
   "name": "python3"
  },
  "language_info": {
   "codemirror_mode": {
    "name": "ipython",
    "version": 3
   },
   "file_extension": ".py",
   "mimetype": "text/x-python",
   "name": "python",
   "nbconvert_exporter": "python",
   "pygments_lexer": "ipython3",
   "version": "3.12.3"
  }
 },
 "nbformat": 4,
 "nbformat_minor": 0
}
