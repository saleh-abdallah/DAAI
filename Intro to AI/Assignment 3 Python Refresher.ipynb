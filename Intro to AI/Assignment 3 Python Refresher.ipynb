{
  "cells": [
    {
      "cell_type": "markdown",
      "metadata": {},
      "source": [
        "Name: Saleh Abdallah"
      ]
    },
    {
      "cell_type": "markdown",
      "metadata": {},
      "source": [
        "https://github.com/saleh-abdallah/DAAI_Introduction-to-Artificial-Intelligence/blob/main/Assignment%203%20Python%20Refresher.ipynb"
      ]
    },
    {
      "cell_type": "markdown",
      "metadata": {
        "id": "kKCIlfklSrTw"
      },
      "source": [
        "#### **ATTENTION!!!**\n",
        "- **Place each section (1,2...) in one or more cells to keep the notebook organised**\n",
        "- **Complete the codes in the `TODO` sections**"
      ]
    },
    {
      "cell_type": "code",
      "execution_count": 1,
      "metadata": {
        "colab": {
          "base_uri": "https://localhost:8080/"
        },
        "id": "dnmV0gINSR23",
        "outputId": "207ffd37-b961-4b0e-ac1a-26750e42a2d5"
      },
      "outputs": [],
      "source": [
        "# Python Library Management System\n",
        "\n",
        "# Install required libraries (This should already exist in colab)\n",
        "#!pip install requests\n",
        "\n",
        "import pickle\n",
        "import sqlite3\n",
        "import requests\n",
        "import pandas as pd"
      ]
    },
    {
      "cell_type": "code",
      "execution_count": 2,
      "metadata": {
        "id": "te_3s54fmmqs"
      },
      "outputs": [
        {
          "name": "stdout",
          "output_type": "stream",
          "text": [
            "Book: Python Programming, Quantity: 5, Price: $29.99, Available: True\n"
          ]
        }
      ],
      "source": [
        "# 1. Data Types and Variables\n",
        "book_title = \"Python Programming\"\n",
        "book_quantity = 5\n",
        "book_price = 29.99\n",
        "is_available = True\n",
        "\n",
        "print(f\"Book: {book_title}, Quantity: {book_quantity}, Price: ${book_price}, Available: {is_available}\")"
      ]
    },
    {
      "cell_type": "code",
      "execution_count": 3,
      "metadata": {
        "id": "OnNq9OommIMX"
      },
      "outputs": [
        {
          "name": "stdout",
          "output_type": "stream",
          "text": [
            "Updated book list: ['Python Basics', 'Data Science', 'Advanced Python', 'Data Science with Python', 'Machine Learning with Python']\n"
          ]
        }
      ],
      "source": [
        "# 2. Lists\n",
        "books = [\"Python Basics\", \"Advanced Python\", \"Data Science with Python\"]\n",
        "\n",
        "# TODO: Add two more books to the list\n",
        "# books.append(...)\n",
        "books.append('Machine Learning with Python')\n",
        "# books.insert(...)\n",
        "books.insert(1, 'Data Science')\n",
        "\n",
        "print(\"Updated book list:\", books)"
      ]
    },
    {
      "cell_type": "code",
      "execution_count": 4,
      "metadata": {
        "id": "CFAuYsmlmJEZ"
      },
      "outputs": [
        {
          "name": "stdout",
          "output_type": "stream",
          "text": [
            "\n",
            "Available books:\n",
            "1. Python Basics\n",
            "2. Data Science\n",
            "3. Advanced Python\n",
            "4. Data Science with Python\n",
            "5. Machine Learning with Python\n"
          ]
        }
      ],
      "source": [
        "# 3. Loops and range()\n",
        "print(\"\\nAvailable books:\")\n",
        "# TODO: Use a for loop and range() to print books with their indices\n",
        "# for ... in range(...):\n",
        "#     print(...)\n",
        "for i in range(len(books)):\n",
        "    print(f\"{i + 1}. {books[i]}\")"
      ]
    },
    {
      "cell_type": "code",
      "execution_count": 5,
      "metadata": {
        "id": "c9k9gWhimWMK"
      },
      "outputs": [
        {
          "name": "stdout",
          "output_type": "stream",
          "text": [
            "Updated book list: ['Python Basics', 'Data Science', 'Advanced Python', 'Data Science with Python', 'Machine Learning with Python', 'Python for Data Analysis']\n"
          ]
        }
      ],
      "source": [
        "# 4. User Input\n",
        "new_book = input(\"Enter a new book title: \")\n",
        "books.append(new_book)\n",
        "print(\"Updated book list:\", books)"
      ]
    },
    {
      "cell_type": "code",
      "execution_count": 6,
      "metadata": {
        "id": "7WOLWF-9mJB_"
      },
      "outputs": [
        {
          "name": "stdout",
          "output_type": "stream",
          "text": [
            "Is 'Python Basics' available? True\n"
          ]
        }
      ],
      "source": [
        "# 5. Functions and Conditional Statements\n",
        "def check_availability(book_name):\n",
        "    # TODO: Check if the book is in the list and return True if available, False otherwise\n",
        "   if book_name in books:\n",
        "        return True\n",
        "   else:\n",
        "        return False\n",
        "\n",
        "# Test the function\n",
        "print(f\"Is 'Python Basics' available? {check_availability('Python Basics')}\")"
      ]
    },
    {
      "cell_type": "code",
      "execution_count": 7,
      "metadata": {
        "id": "nGoOxDkpmI_3"
      },
      "outputs": [],
      "source": [
        "# 6. File I/O\n",
        "def save_books_to_file(filename):\n",
        "    with open(filename, 'w') as f:\n",
        "        for book in books:\n",
        "            f.write(f\"{book}\\n\")\n",
        "\n",
        "# TODO: Implement a function to read books from a file\n",
        "# def read_books_from_file(filename):\n",
        "#     ...\n",
        "def read_books(filename):\n",
        "    with open(filename, 'r') as f:\n",
        "        return [line.strip() for line in f]\n",
        "\n",
        "\n",
        "# Test file I/O\n",
        "save_books_to_file(\"books.txt\")\n",
        "#!cat books.txt  # Display file contents in Colab"
      ]
    },
    {
      "cell_type": "code",
      "execution_count": 8,
      "metadata": {
        "id": "sIY7rtf8mI9M"
      },
      "outputs": [
        {
          "name": "stdout",
          "output_type": "stream",
          "text": [
            "Books loaded from pickle: ['Python Basics', 'Data Science', 'Advanced Python', 'Data Science with Python', 'Machine Learning with Python', 'Python for Data Analysis']\n"
          ]
        }
      ],
      "source": [
        "# 7. Pickle for serialization\n",
        "def save_books_pickle(filename):\n",
        "    with open(filename, 'wb') as f:\n",
        "        pickle.dump(books, f)\n",
        "\n",
        "# TODO: Implement a function to load books using pickle\n",
        "# def load_books_pickle(filename):\n",
        "#     ...\n",
        "def load_books_pickle(filename):\n",
        "    with open(filename, 'rb') as f:\n",
        "        return pickle.load(f)\n",
        "\n",
        "# Test pickle functions\n",
        "save_books_pickle(\"books.pkl\")\n",
        "# Uncomment the next line after implementing load_books_pickle\n",
        "print(\"Books loaded from pickle:\", load_books_pickle(\"books.pkl\"))"
      ]
    },
    {
      "cell_type": "code",
      "execution_count": 9,
      "metadata": {
        "id": "yMKhT6XgmI6z"
      },
      "outputs": [],
      "source": [
        "# 8. SQLite Database Interaction\n",
        "def create_books_table():\n",
        "    conn = sqlite3.connect('library.db')\n",
        "    cursor = conn.cursor()\n",
        "    cursor.execute('''CREATE TABLE IF NOT EXISTS books\n",
        "                      (id INTEGER PRIMARY KEY, title TEXT, quantity INTEGER)''')\n",
        "    conn.commit()\n",
        "    conn.close()\n",
        "\n",
        "# TODO: Implement a function to add a book to the SQLite database\n",
        "# def add_book_to_db(title, quantity):\n",
        "#     ...\n",
        "def add_book_to_db(title, quantity):\n",
        "    conn = sqlite3.connect('library.db')\n",
        "    cursor = conn.cursor()\n",
        "    cursor.execute(\"INSERT INTO books (title, quantity) VALUES (?, ?)\", (title, quantity))\n",
        "    conn.commit()\n",
        "    conn.close()\n",
        "\n",
        "# Test database functions\n",
        "create_books_table()\n",
        "# Uncomment the next line after implementing add_book_to_db\n",
        "add_book_to_db(\"Python for Beginners\", 10)"
      ]
    },
    {
      "cell_type": "code",
      "execution_count": 10,
      "metadata": {
        "id": "auUcuvzGmI0F"
      },
      "outputs": [
        {
          "name": "stdout",
          "output_type": "stream",
          "text": [
            "Top 5 Python repositories on GitHub: ['free-programming-books', 'public-apis', 'system-design-primer', 'awesome-python', 'Python']\n",
            "\n",
            "Library Management System operations completed.\n"
          ]
        }
      ],
      "source": [
        "# 9. Web API Interaction (GitHub API)\n",
        "def get_python_repos():\n",
        "    url = \"https://api.github.com/search/repositories\"\n",
        "    params = {\"q\": \"language:python\", \"sort\": \"stars\", \"order\": \"desc\"}\n",
        "    response = requests.get(url, params=params)\n",
        "    data = response.json()\n",
        "    return [repo['name'] for repo in data['items'][:5]]\n",
        "\n",
        "# Test API function\n",
        "print(\"Top 5 Python repositories on GitHub:\", get_python_repos())\n",
        "\n",
        "print(\"\\nLibrary Management System operations completed.\")"
      ]
    }
  ],
  "metadata": {
    "colab": {
      "provenance": []
    },
    "kernelspec": {
      "display_name": "base",
      "language": "python",
      "name": "python3"
    },
    "language_info": {
      "codemirror_mode": {
        "name": "ipython",
        "version": 3
      },
      "file_extension": ".py",
      "mimetype": "text/x-python",
      "name": "python",
      "nbconvert_exporter": "python",
      "pygments_lexer": "ipython3",
      "version": "3.12.3"
    }
  },
  "nbformat": 4,
  "nbformat_minor": 0
}
