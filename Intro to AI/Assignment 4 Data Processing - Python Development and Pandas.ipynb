{
 "cells": [
  {
   "cell_type": "markdown",
   "metadata": {
    "id": "LvYjstl7xAOB"
   },
   "source": [
    "Name: Saleh Abdallah"
   ]
  },
  {
   "cell_type": "code",
   "execution_count": 10,
   "metadata": {
    "id": "RrCOCiZDw16j"
   },
   "outputs": [
    {
     "data": {
      "text/html": [
       "<div>\n",
       "<style scoped>\n",
       "    .dataframe tbody tr th:only-of-type {\n",
       "        vertical-align: middle;\n",
       "    }\n",
       "\n",
       "    .dataframe tbody tr th {\n",
       "        vertical-align: top;\n",
       "    }\n",
       "\n",
       "    .dataframe thead th {\n",
       "        text-align: right;\n",
       "    }\n",
       "</style>\n",
       "<table border=\"1\" class=\"dataframe\">\n",
       "  <thead>\n",
       "    <tr style=\"text-align: right;\">\n",
       "      <th></th>\n",
       "      <th>Name</th>\n",
       "      <th>Age</th>\n",
       "      <th>City</th>\n",
       "    </tr>\n",
       "  </thead>\n",
       "  <tbody>\n",
       "    <tr>\n",
       "      <th>0</th>\n",
       "      <td>Alice</td>\n",
       "      <td>25</td>\n",
       "      <td>New York</td>\n",
       "    </tr>\n",
       "    <tr>\n",
       "      <th>1</th>\n",
       "      <td>Bob</td>\n",
       "      <td>30</td>\n",
       "      <td>San Francisco</td>\n",
       "    </tr>\n",
       "    <tr>\n",
       "      <th>2</th>\n",
       "      <td>Charlie</td>\n",
       "      <td>35</td>\n",
       "      <td>Los Angeles</td>\n",
       "    </tr>\n",
       "    <tr>\n",
       "      <th>3</th>\n",
       "      <td>David</td>\n",
       "      <td>28</td>\n",
       "      <td>Chicago</td>\n",
       "    </tr>\n",
       "  </tbody>\n",
       "</table>\n",
       "</div>"
      ],
      "text/plain": [
       "      Name  Age           City\n",
       "0    Alice   25       New York\n",
       "1      Bob   30  San Francisco\n",
       "2  Charlie   35    Los Angeles\n",
       "3    David   28        Chicago"
      ]
     },
     "execution_count": 10,
     "metadata": {},
     "output_type": "execute_result"
    }
   ],
   "source": [
    "# Python and Pandas Assessment Notebook\n",
    "\n",
    "import pandas as pd\n",
    "import numpy as np\n",
    "from functools import reduce\n",
    "\n",
    "# Task 1: Create a DataFrame using Pandas\n",
    "# Create a DataFrame with the following data:\n",
    "# Name: Alice, Bob, Charlie, David\n",
    "# Age: 25, 30, 35, 28\n",
    "# City: New York, San Francisco, Los Angeles, Chicago\n",
    "\n",
    "# Your code here:\n",
    "data = {\n",
    "    'Name': ['Alice', 'Bob', 'Charlie', 'David'],\n",
    "    'Age': [25, 30, 35, 28],\n",
    "    'City': ['New York', 'San Francisco', 'Los Angeles', 'Chicago']\n",
    "}\n",
    "df = pd.DataFrame(data)\n",
    "df"
   ]
  },
  {
   "cell_type": "code",
   "execution_count": 11,
   "metadata": {},
   "outputs": [
    {
     "data": {
      "text/html": [
       "<div>\n",
       "<style scoped>\n",
       "    .dataframe tbody tr th:only-of-type {\n",
       "        vertical-align: middle;\n",
       "    }\n",
       "\n",
       "    .dataframe tbody tr th {\n",
       "        vertical-align: top;\n",
       "    }\n",
       "\n",
       "    .dataframe thead th {\n",
       "        text-align: right;\n",
       "    }\n",
       "</style>\n",
       "<table border=\"1\" class=\"dataframe\">\n",
       "  <thead>\n",
       "    <tr style=\"text-align: right;\">\n",
       "      <th></th>\n",
       "      <th>Name</th>\n",
       "      <th>Age</th>\n",
       "    </tr>\n",
       "  </thead>\n",
       "  <tbody>\n",
       "    <tr>\n",
       "      <th>0</th>\n",
       "      <td>Alice</td>\n",
       "      <td>25</td>\n",
       "    </tr>\n",
       "    <tr>\n",
       "      <th>1</th>\n",
       "      <td>Bob</td>\n",
       "      <td>30</td>\n",
       "    </tr>\n",
       "    <tr>\n",
       "      <th>2</th>\n",
       "      <td>Charlie</td>\n",
       "      <td>35</td>\n",
       "    </tr>\n",
       "    <tr>\n",
       "      <th>3</th>\n",
       "      <td>David</td>\n",
       "      <td>28</td>\n",
       "    </tr>\n",
       "  </tbody>\n",
       "</table>\n",
       "</div>"
      ],
      "text/plain": [
       "      Name  Age\n",
       "0    Alice   25\n",
       "1      Bob   30\n",
       "2  Charlie   35\n",
       "3    David   28"
      ]
     },
     "execution_count": 11,
     "metadata": {},
     "output_type": "execute_result"
    }
   ],
   "source": [
    "# Task 2: Row and Column Manipulation\n",
    "# Drop the 'City' column from the DataFrame created in Task 1\n",
    "\n",
    "# Your code here:\n",
    "df_drop = df.drop(columns=['City'])\n",
    "df_drop"
   ]
  },
  {
   "cell_type": "code",
   "execution_count": 19,
   "metadata": {},
   "outputs": [
    {
     "name": "stdout",
     "output_type": "stream",
     "text": [
      "Total null values:  2\n",
      "Total null values after update:  0\n"
     ]
    }
   ],
   "source": [
    "# Task 3: Handling Null Values\n",
    "# Create a new DataFrame with some null values and fill them\n",
    "\n",
    "# Your code here:\n",
    "data = {\n",
    "    'Name': ['Alice', 'Bob', 'Charlie', 'David'],\n",
    "    'Age': [25, np.nan, 35, np.nan],\n",
    "    'City': ['New York', 'San Francisco', 'Los Angeles', 'Chicago']\n",
    "}\n",
    "df = pd.DataFrame(data)\n",
    "print('Total null values: ', df.isnull().sum().sum())\n",
    "# Fill null values with 0\n",
    "df = df.fillna(0)\n",
    "print('Total null values after update: ', df.isnull().sum().sum())"
   ]
  },
  {
   "cell_type": "code",
   "execution_count": 22,
   "metadata": {},
   "outputs": [
    {
     "data": {
      "text/html": [
       "<div>\n",
       "<style scoped>\n",
       "    .dataframe tbody tr th:only-of-type {\n",
       "        vertical-align: middle;\n",
       "    }\n",
       "\n",
       "    .dataframe tbody tr th {\n",
       "        vertical-align: top;\n",
       "    }\n",
       "\n",
       "    .dataframe thead th {\n",
       "        text-align: right;\n",
       "    }\n",
       "</style>\n",
       "<table border=\"1\" class=\"dataframe\">\n",
       "  <thead>\n",
       "    <tr style=\"text-align: right;\">\n",
       "      <th></th>\n",
       "      <th>count</th>\n",
       "      <th>mean</th>\n",
       "      <th>std</th>\n",
       "      <th>min</th>\n",
       "      <th>25%</th>\n",
       "      <th>50%</th>\n",
       "      <th>75%</th>\n",
       "      <th>max</th>\n",
       "    </tr>\n",
       "    <tr>\n",
       "      <th>Category</th>\n",
       "      <th></th>\n",
       "      <th></th>\n",
       "      <th></th>\n",
       "      <th></th>\n",
       "      <th></th>\n",
       "      <th></th>\n",
       "      <th></th>\n",
       "      <th></th>\n",
       "    </tr>\n",
       "  </thead>\n",
       "  <tbody>\n",
       "    <tr>\n",
       "      <th>A</th>\n",
       "      <td>3.0</td>\n",
       "      <td>18.3</td>\n",
       "      <td>10.4</td>\n",
       "      <td>10.0</td>\n",
       "      <td>12.5</td>\n",
       "      <td>15.0</td>\n",
       "      <td>22.5</td>\n",
       "      <td>30.0</td>\n",
       "    </tr>\n",
       "    <tr>\n",
       "      <th>B</th>\n",
       "      <td>2.0</td>\n",
       "      <td>22.5</td>\n",
       "      <td>3.5</td>\n",
       "      <td>20.0</td>\n",
       "      <td>21.2</td>\n",
       "      <td>22.5</td>\n",
       "      <td>23.8</td>\n",
       "      <td>25.0</td>\n",
       "    </tr>\n",
       "    <tr>\n",
       "      <th>C</th>\n",
       "      <td>1.0</td>\n",
       "      <td>35.0</td>\n",
       "      <td>NaN</td>\n",
       "      <td>35.0</td>\n",
       "      <td>35.0</td>\n",
       "      <td>35.0</td>\n",
       "      <td>35.0</td>\n",
       "      <td>35.0</td>\n",
       "    </tr>\n",
       "  </tbody>\n",
       "</table>\n",
       "</div>"
      ],
      "text/plain": [
       "          count  mean   std   min   25%   50%   75%   max\n",
       "Category                                                 \n",
       "A           3.0  18.3  10.4  10.0  12.5  15.0  22.5  30.0\n",
       "B           2.0  22.5   3.5  20.0  21.2  22.5  23.8  25.0\n",
       "C           1.0  35.0   NaN  35.0  35.0  35.0  35.0  35.0"
      ]
     },
     "execution_count": 22,
     "metadata": {},
     "output_type": "execute_result"
    }
   ],
   "source": [
    "# Task 4: GroupBy and Describe\n",
    "# Using the following DataFrame, group by 'Category' and describe the 'Value' column\n",
    "\n",
    "df_group = pd.DataFrame({\n",
    "    'Category': ['A', 'B', 'A', 'B', 'A', 'C'],\n",
    "    'Value': [10, 20, 15, 25, 30, 35]\n",
    "})\n",
    "\n",
    "# Your code here:\n",
    "df_group.groupby('Category')['Value'].describe().round(1)"
   ]
  },
  {
   "cell_type": "code",
   "execution_count": 81,
   "metadata": {},
   "outputs": [
    {
     "name": "stdout",
     "output_type": "stream",
     "text": [
      "Vertical concatenation of df1 and df2:\n",
      "    A  B\n",
      "0  1  3\n",
      "1  2  4\n",
      "2  5  7\n",
      "3  6  8\n",
      "\n",
      "Horizontal merging of the concatenation result with df3:\n",
      "    A  B     C     D\n",
      "0  1  3   9.0  11.0\n",
      "1  2  4  10.0  12.0\n",
      "2  5  7   NaN   NaN\n",
      "3  6  8   NaN   NaN\n"
     ]
    }
   ],
   "source": [
    "# Task 5: Concatenation and Merging\n",
    "# Concatenate two DataFrames vertically and merge them horizontally\n",
    "\n",
    "df1 = pd.DataFrame({'A': [1, 2], 'B': [3, 4]})\n",
    "df2 = pd.DataFrame({'A': [5, 6], 'B': [7, 8]})\n",
    "df3 = pd.DataFrame({'C': [9, 10], 'D': [11, 12]})\n",
    "\n",
    "# Your code here:\n",
    "df_concat = pd.concat([df1, df2], ignore_index=True)\n",
    "print('Vertical concatenation of df1 and df2:\\n', df_concat)\n",
    "df_merge = pd.concat([df_concat, df3], axis=1)\n",
    "print('\\nHorizontal merging of the concatenation result with df3:\\n', df_merge)\n"
   ]
  },
  {
   "cell_type": "code",
   "execution_count": 42,
   "metadata": {},
   "outputs": [
    {
     "name": "stdout",
     "output_type": "stream",
     "text": [
      "Updated fruits: ('apple', 'banana', 'cherry', 'orange')\n",
      "Updated numbers: {1, 2, 3, 4, 5, 6}\n"
     ]
    }
   ],
   "source": [
    "# Task 6: Tuples and Sets\n",
    "# Create a tuple of fruits and a set of numbers.\n",
    "# Then, try to add an element to each and observe the difference.\n",
    "\n",
    "# Your code here:\n",
    "fruits = ('apple', 'banana', 'cherry')\n",
    "numbers = {1, 2, 3, 4, 5}\n",
    "\n",
    "# Unlike lists and sets tuples are immutable but we can create a new tuple \n",
    "# by concatenating the existing 'fruits' tuple with the new value tuple\n",
    "fruits += ('orange',)  \n",
    "print('Updated fruits:', fruits)\n",
    "numbers.add(6)\n",
    "print('Updated numbers:', numbers)"
   ]
  },
  {
   "cell_type": "code",
   "execution_count": 33,
   "metadata": {},
   "outputs": [
    {
     "data": {
      "text/plain": [
       "{'Alice': 88, 'Bob': 95, 'Charlie': 85, 'David': 90}"
      ]
     },
     "execution_count": 33,
     "metadata": {},
     "output_type": "execute_result"
    }
   ],
   "source": [
    "# Task 7: Dictionaries\n",
    "# Create a dictionary of student names and their scores.\n",
    "# Then, update a student's score and add a new student.\n",
    "\n",
    "# Your code here:\n",
    "scores = {'Alice': 88, 'Bob': 92, 'Charlie': 85}\n",
    "scores['Bob'] = 95  \n",
    "scores['David'] = 90 \n",
    "scores"
   ]
  },
  {
   "cell_type": "code",
   "execution_count": 79,
   "metadata": {},
   "outputs": [
    {
     "name": "stdout",
     "output_type": "stream",
     "text": [
      "Square function: 36\n",
      "Square function using Lambda: 36\n"
     ]
    }
   ],
   "source": [
    "# Task 8: Functions and Lambda\n",
    "# Create a function to calculate the square of a number.\n",
    "# Then, use a lambda function to do the same.\n",
    "\n",
    "# Your code here:\n",
    "def square(x):\n",
    "    return x * x\n",
    "\n",
    "lambda_square = lambda x: x * x\n",
    "\n",
    "print('Square function:', square(6))\n",
    "print('Square function using Lambda:', lambda_square(6))"
   ]
  },
  {
   "cell_type": "code",
   "execution_count": null,
   "metadata": {},
   "outputs": [],
   "source": [
    "# Task 9: Iterators and Generators\n",
    "# Create an iterator for the first 5 even numbers.\n",
    "# Then, create a generator for the same.\n",
    "\n",
    "# Your code here:"
   ]
  },
  {
   "cell_type": "code",
   "execution_count": 78,
   "metadata": {},
   "outputs": [
    {
     "name": "stdout",
     "output_type": "stream",
     "text": [
      "Numbers list: [1 2 3 4 5 6]\n",
      "Numbers list square: [1, 4, 9, 16, 25, 36]\n",
      "Numbers list product: 720\n",
      "Numbers list even numbers: [2, 4, 6]\n"
     ]
    }
   ],
   "source": [
    "# Task 10: Map, Reduce, and Filter\n",
    "# Use map to square all numbers in a list.\n",
    "# Use reduce to find the product of all numbers in a list.\n",
    "# Use filter to get only even numbers from a list.\n",
    "\n",
    "# Your code here:\n",
    "nums = np.arange(1, 7)\n",
    "square = list(map(lambda_square, nums))\n",
    "product = reduce(lambda x, y: x * y, nums)\n",
    "even = list(filter(lambda x: x % 2 == 0, nums))\n",
    "\n",
    "print('Numbers list:', nums)\n",
    "print('Numbers list square:', square)\n",
    "print('Numbers list product:', product)\n",
    "print('Numbers list even numbers:', even)"
   ]
  },
  {
   "cell_type": "code",
   "execution_count": 74,
   "metadata": {},
   "outputs": [
    {
     "name": "stdout",
     "output_type": "stream",
     "text": [
      "The sides of the rectangle are: Length = 5 and Width = 9\n",
      "The Area of the rectangle is: 45\n",
      "The Perimeter of the rectangle is: 28\n"
     ]
    }
   ],
   "source": [
    "# Task 11: Object-Oriented Programming - Creating a Class\n",
    "# Create a class called 'Rectangle' with attributes 'length' and 'width'.\n",
    "# Include methods to calculate area and perimeter.\n",
    "\n",
    "# Your code here:\n",
    "# Define the Rectangle class\n",
    "class Rectangle:\n",
    "    def __init__(self, length, width):\n",
    "        self.length = length\n",
    "        self.width = width\n",
    "    \n",
    "    def sides(self):\n",
    "        return f'Length = {self.length} and Width = {self.width}'\n",
    "\n",
    "    def area(self):\n",
    "        return self.length * self.width\n",
    "\n",
    "    def perimeter(self):\n",
    "        return 2 * (self.length + self.width)\n",
    "\n",
    "rectangle = Rectangle(5, 9)\n",
    "print('The sides of the rectangle are:', rectangle.sides())\n",
    "print('The Area of the rectangle is:', rectangle.area())\n",
    "print('The Perimeter of the rectangle is:', rectangle.perimeter())"
   ]
  },
  {
   "cell_type": "code",
   "execution_count": 73,
   "metadata": {},
   "outputs": [
    {
     "name": "stdout",
     "output_type": "stream",
     "text": [
      "Average salary by department:\n",
      " Department\n",
      "Finance    60000.0\n",
      "HR         61500.0\n",
      "IT         62500.0\n",
      "Name: Salary, dtype: float64\n",
      "\n",
      "Employees with salary above 60000:\n",
      "    Name  Salary\n",
      "1  Jane   65000\n",
      "2   Bob   70000\n",
      "\n",
      "DF after adding 10% bonus column:\n",
      "       Name Department  Salary   Bonus\n",
      "0     John         IT   55000  5500.0\n",
      "1     Jane         HR   65000  6500.0\n",
      "2      Bob         IT   70000  7000.0\n",
      "3    Alice    Finance   60000  6000.0\n",
      "4  Charlie         HR   58000  5800.0\n"
     ]
    }
   ],
   "source": [
    "# Task 12: Pandas Data Analysis\n",
    "# Using the following DataFrame, perform these tasks:\n",
    "# 1. Find the average salary by department\n",
    "# 2. Get the names of employees with salary > 60000\n",
    "# 3. Add a new column 'Bonus' which is 10% of salary\n",
    "\n",
    "df_employees = pd.DataFrame({\n",
    "    'Name': ['John', 'Jane', 'Bob', 'Alice', 'Charlie'],\n",
    "    'Department': ['IT', 'HR', 'IT', 'Finance', 'HR'],\n",
    "    'Salary': [55000, 65000, 70000, 60000, 58000]\n",
    "})\n",
    "\n",
    "# Your code here:\n",
    "avg_salary = df_employees.groupby('Department')['Salary'].mean()\n",
    "above_60 = df_employees[df_employees['Salary'] > 60000][['Name','Salary']]\n",
    "df_employees['Bonus'] = df_employees['Salary'] * 0.1\n",
    "\n",
    "print('Average salary by department:\\n', avg_salary)\n",
    "print('\\nEmployees with salary above 60000:\\n', above_60)\n",
    "print('\\nDF after adding 10% bonus column:\\n', df_employees)"
   ]
  }
 ],
 "metadata": {
  "colab": {
   "provenance": []
  },
  "kernelspec": {
   "display_name": "Python 3",
   "name": "python3"
  },
  "language_info": {
   "name": "python"
  }
 },
 "nbformat": 4,
 "nbformat_minor": 0
}
