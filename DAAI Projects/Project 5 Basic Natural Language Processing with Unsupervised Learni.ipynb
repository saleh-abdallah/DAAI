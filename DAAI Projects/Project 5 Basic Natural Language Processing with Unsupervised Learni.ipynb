{
  "cells": [
    {
      "cell_type": "markdown",
      "metadata": {
        "id": "d6fmq0-k88_5"
      },
      "source": [
        "Name: Saleh Abdallah"
      ]
    },
    {
      "cell_type": "code",
      "execution_count": 1,
      "metadata": {
        "id": "mAIQaVKb6MSV"
      },
      "outputs": [],
      "source": [
        "import pandas as pd\n",
        "import nltk\n",
        "from nltk.corpus import stopwords\n",
        "from sklearn.datasets import fetch_20newsgroups\n",
        "import string\n",
        "import matplotlib.pyplot as plt\n",
        "import seaborn as sns\n",
        "from sklearn.feature_extraction.text import CountVectorizer, TfidfVectorizer\n",
        "from sklearn.cluster import KMeans\n",
        "from sklearn.metrics import silhouette_score\n",
        "import warnings\n",
        "warnings.filterwarnings('ignore')"
      ]
    },
    {
      "cell_type": "markdown",
      "metadata": {},
      "source": [
        "Text Data Preparation"
      ]
    },
    {
      "cell_type": "code",
      "execution_count": 2,
      "metadata": {},
      "outputs": [],
      "source": [
        "# Load 20 Newsgroups dataset\n",
        "newsgroups = fetch_20newsgroups(subset='all', remove=('headers', 'footers', 'quotes'))\n",
        "texts = newsgroups.data"
      ]
    },
    {
      "cell_type": "code",
      "execution_count": null,
      "metadata": {},
      "outputs": [],
      "source": [
        "# Text processing function\n",
        "def text_process(text):\n",
        "    # Remove punctuation\n",
        "    nopunc = ''.join([char for char in text if char not in string.punctuation])\n",
        "    # Tokenize & Remove any stopwords\n",
        "    return ' '.join([word for word in nopunc.split() if word.lower() not in stopwords.words('english')])"
      ]
    },
    {
      "cell_type": "code",
      "execution_count": 19,
      "metadata": {},
      "outputs": [],
      "source": [
        "# Apply preprocessing to the documents\n",
        "cleaned_texts = [text_process(text) for text in texts]"
      ]
    },
    {
      "cell_type": "markdown",
      "metadata": {},
      "source": [
        "Text Representation"
      ]
    },
    {
      "cell_type": "code",
      "execution_count": 20,
      "metadata": {},
      "outputs": [],
      "source": [
        "# Assign BoW & TFIDF vectorizers\n",
        "bow_vectorizer = CountVectorizer(max_features=1000)\n",
        "tfidf_vectorizer = TfidfVectorizer(max_features=1000)"
      ]
    },
    {
      "cell_type": "code",
      "execution_count": 25,
      "metadata": {},
      "outputs": [],
      "source": [
        "# Vectorization\n",
        "# Bag of Words\n",
        "bow = bow_vectorizer.fit_transform(cleaned_texts).astype('float32')\n",
        "# TF-IDF\n",
        "tfidf = tfidf_vectorizer.fit_transform(cleaned_texts).astype('float32')"
      ]
    },
    {
      "cell_type": "markdown",
      "metadata": {},
      "source": [
        "Unsupervised Learning Application"
      ]
    },
    {
      "cell_type": "code",
      "execution_count": 26,
      "metadata": {},
      "outputs": [],
      "source": [
        "# Apply KMeans to BoW features\n",
        "kmeans = KMeans(n_clusters=10, random_state=42)\n",
        "kmeans.fit(bow)\n",
        "# Get predicted cluster labels\n",
        "cluster_labels_bow = kmeans.labels_"
      ]
    },
    {
      "cell_type": "code",
      "execution_count": 27,
      "metadata": {},
      "outputs": [],
      "source": [
        "# Apply KMeans to TF-IDF features\n",
        "kmeans = KMeans(n_clusters=10, random_state=42)\n",
        "kmeans.fit(tfidf)\n",
        "# Get predicted cluster labels\n",
        "cluster_labels_tfidf = kmeans.labels_"
      ]
    },
    {
      "cell_type": "markdown",
      "metadata": {},
      "source": [
        "Model Evaluation and Prediction"
      ]
    },
    {
      "cell_type": "code",
      "execution_count": 28,
      "metadata": {},
      "outputs": [
        {
          "name": "stdout",
          "output_type": "stream",
          "text": [
            "Silhouette Score BoW: 0.82\n",
            "Silhouette Score TF-IDF: 0.01\n"
          ]
        }
      ],
      "source": [
        "# Silhouette score - BoW\n",
        "# Sample 2000 points randomly\n",
        "# from sklearn.utils import resample\n",
        "# X_sample, labels_sample = resample(X, labels, n_samples=2000, random_state=42)\n",
        "\n",
        "sil_score_bow = silhouette_score(bow, cluster_labels_bow)\n",
        "print(f'Silhouette Score BoW: {sil_score_bow:.2f}')\n",
        "sil_score_tfidf = silhouette_score(tfidf, cluster_labels_tfidf)\n",
        "print(f'Silhouette Score TF-IDF: {sil_score_tfidf:.2f}')"
      ]
    },
    {
      "cell_type": "code",
      "execution_count": 33,
      "metadata": {},
      "outputs": [
        {
          "name": "stdout",
          "output_type": "stream",
          "text": [
            "BoW - New document Cluster: 7\n",
            "TFIDF - New document Cluster: 9\n"
          ]
        }
      ],
      "source": [
        "# Predict New Documents\n",
        "new_doc = ['Canada wants new trade partners. But markets like India and China come with major obstacles']\n",
        "# Apply text_process\n",
        "cleaned_doc = text_process(new_doc[0])\n",
        "# Vectorization\n",
        "vectorized_doc_bow = bow_vectorizer.transform([cleaned_doc]).astype('float32')\n",
        "vectorized_doc_tfidf = tfidf_vectorizer.transform([cleaned_doc]).astype('float32')\n",
        "# Prediction\n",
        "predicted_cluster_bow = kmeans.predict(vectorized_doc_bow)\n",
        "print(f\"BoW - New document Cluster: {predicted_cluster_bow[0]}\")\n",
        "predicted_cluster_tfidf = kmeans.predict(vectorized_doc_tfidf)\n",
        "print(f\"TFIDF - New document Cluster: {predicted_cluster_tfidf[0]}\")"
      ]
    },
    {
      "cell_type": "code",
      "execution_count": 34,
      "metadata": {},
      "outputs": [
        {
          "data": {
            "image/png": "[encoded data removed]",
            "text/plain": [
              "<Figure size 640x480 with 1 Axes>"
            ]
          },
          "metadata": {},
          "output_type": "display_data"
        }
      ],
      "source": [
        "# Visualization - BoW\n",
        "sns.countplot(x=cluster_labels_bow)\n",
        "plt.title(\"Cluster Distribution - BoW\")\n",
        "plt.xlabel(\"Cluster\")\n",
        "plt.ylabel(\"Number of Documents\")\n",
        "plt.show()"
      ]
    },
    {
      "cell_type": "code",
      "execution_count": 35,
      "metadata": {},
      "outputs": [
        {
          "data": {
            "image/png": "[encoded data removed]",
            "text/plain": [
              "<Figure size 640x480 with 1 Axes>"
            ]
          },
          "metadata": {},
          "output_type": "display_data"
        }
      ],
      "source": [
        "# Visualization - TFIDF\n",
        "sns.countplot(x=cluster_labels_tfidf)\n",
        "plt.title(\"Cluster Distribution - TFIDF\")\n",
        "plt.xlabel(\"Cluster\")\n",
        "plt.ylabel(\"Number of Documents\")\n",
        "plt.show()"
      ]
    },
    {
      "cell_type": "markdown",
      "metadata": {},
      "source": [
        "Reporting and Documentation"
      ]
    },
    {
      "cell_type": "markdown",
      "metadata": {},
      "source": [
        "* Data Loading: Retrieved raw text data from fetch_20newsgroups.\n",
        "\n",
        "* Preprocessing: Removed punctuation and stopwords from the documents.\n",
        "\n",
        "* Vectorization: Used CountVectorizer (BoW) and TfidfVectorizer to numerically represent the text.\n",
        "\n",
        "* Clustering: Applied KMeans clustering with n_clusters=10.\n",
        "\n",
        "* Evaluation: Measured cluster quality using Silhouette Score. BoW: 0.82 very good vs TF-IDF: 0.01 very low.\n",
        "\n",
        "* Prediction:Predicted clusters 7 and 9 for a new document for BoW and TFIDF respectively.\n",
        "\n",
        "* Visualization: Plotted cluster distributions using seaborn. TFIDF showed a more balanced clustering distribution than BoW which showed that majority of the documentss are in one cluster."
      ]
    }
  ],
  "metadata": {
    "colab": {
      "provenance": []
    },
    "kernelspec": {
      "display_name": "base",
      "language": "python",
      "name": "python3"
    },
    "language_info": {
      "codemirror_mode": {
        "name": "ipython",
        "version": 3
      },
      "file_extension": ".py",
      "mimetype": "text/x-python",
      "name": "python",
      "nbconvert_exporter": "python",
      "pygments_lexer": "ipython3",
      "version": "3.12.3"
    }
  },
  "nbformat": 4,
  "nbformat_minor": 0
}
