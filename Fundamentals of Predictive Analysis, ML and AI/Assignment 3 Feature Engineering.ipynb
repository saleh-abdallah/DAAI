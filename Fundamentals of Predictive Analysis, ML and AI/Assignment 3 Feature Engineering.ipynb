{
 "cells": [
  {
   "cell_type": "markdown",
   "id": "e4b6d281",
   "metadata": {},
   "source": [
    "Name: Saleh Abdallah"
   ]
  },
  {
   "cell_type": "code",
   "execution_count": 29,
   "id": "b99c2a9c",
   "metadata": {},
   "outputs": [],
   "source": [
    "import numpy as np\n",
    "import pandas as pd\n",
    "from sklearn.preprocessing import MinMaxScaler\n",
    "from sklearn.model_selection import train_test_split\n",
    "from sklearn.linear_model import LinearRegression\n",
    "from sklearn.metrics import mean_squared_error\n",
    "import warnings\n",
    "warnings.filterwarnings('ignore')"
   ]
  },
  {
   "cell_type": "code",
   "execution_count": 31,
   "id": "512e5602",
   "metadata": {},
   "outputs": [],
   "source": [
    "# Load the dataset: Load the training dataset ‘train.csv‘ and display the first 10 rows to get an overview of the features and target variable.\n",
    "df = pd.read_csv('train.csv')"
   ]
  },
  {
   "cell_type": "code",
   "execution_count": 16,
   "id": "7b88bc06",
   "metadata": {},
   "outputs": [
    {
     "data": {
      "text/plain": [
       "LotFrontage      259\n",
       "Alley           1369\n",
       "MasVnrType       872\n",
       "MasVnrArea         8\n",
       "BsmtQual          37\n",
       "BsmtCond          37\n",
       "BsmtExposure      38\n",
       "BsmtFinType1      37\n",
       "BsmtFinType2      38\n",
       "Electrical         1\n",
       "FireplaceQu      690\n",
       "GarageType        81\n",
       "GarageYrBlt       81\n",
       "GarageFinish      81\n",
       "GarageQual        81\n",
       "GarageCond        81\n",
       "PoolQC          1453\n",
       "Fence           1179\n",
       "MiscFeature     1406\n",
       "dtype: int64"
      ]
     },
     "execution_count": 16,
     "metadata": {},
     "output_type": "execute_result"
    }
   ],
   "source": [
    "# Handling Missing Values:\n",
    "# Inspect the dataset for missing values.\n",
    "df.isnull().sum()[df.isnull().sum() > 0]"
   ]
  },
  {
   "cell_type": "code",
   "execution_count": 17,
   "id": "b5c9c155",
   "metadata": {},
   "outputs": [
    {
     "name": "stdout",
     "output_type": "stream",
     "text": [
      "Missing values is: 0\n"
     ]
    }
   ],
   "source": [
    "# Impute missing values in the numerical columns using the median.\n",
    "numerical = df.select_dtypes(include='number').columns\n",
    "for i in numerical:\n",
    "    df[i].fillna(df[i].median(), inplace=True)\n",
    "\n",
    "# For categorical columns, impute missing values with the most frequent category.\n",
    "categorical = df.select_dtypes(include='object').columns\n",
    "for i in categorical:\n",
    "    df[i].fillna(df[i].mode()[0], inplace=True)\n",
    "\n",
    "print('Missing values is:', df.isnull().sum().sum())"
   ]
  },
  {
   "cell_type": "code",
   "execution_count": 18,
   "id": "aa24173a",
   "metadata": {},
   "outputs": [],
   "source": [
    "# Feature Scaling:\n",
    "# Identify the numerical features in the dataset.\n",
    "# Scale these numerical features using Min-Max scaling.\n",
    "scaler = MinMaxScaler()\n",
    "for i in numerical:\n",
    "    df[i] = scaler.fit_transform(df[[i]])"
   ]
  },
  {
   "cell_type": "code",
   "execution_count": 19,
   "id": "073bdf83",
   "metadata": {},
   "outputs": [],
   "source": [
    "# Encoding Categorical Features:\n",
    "# Identify the categorical features in the dataset.\n",
    "# Apply One-Hot Encoding to these categorical features.\n",
    "df = pd.get_dummies(df, columns=categorical, drop_first=True)"
   ]
  },
  {
   "cell_type": "code",
   "execution_count": null,
   "id": "d73fda4a",
   "metadata": {},
   "outputs": [],
   "source": [
    "# Feature Engineering:\n",
    "# Create a new feature called ‘TotalSF‘ that combines ‘TotalBsmtSF‘, ‘1stFlrSF‘, and ‘2ndFlrSF‘ to represent the total square footage of the house.\n",
    "df['TotalSF'] = df['TotalBsmtSF'] + df['1stFlrSF'] + df['2ndFlrSF']\n",
    "# Create another feature called ‘Age‘ by subtracting the year the house was built (‘YearBuilt‘) from the year of sale (‘YrSold‘).\n",
    "df['Age'] = df['YrSold'] - df['YearBuilt']"
   ]
  },
  {
   "cell_type": "code",
   "execution_count": 25,
   "id": "fb0b24a3",
   "metadata": {},
   "outputs": [],
   "source": [
    "# Data Leakage Prevention:\n",
    "# Split the dataset into training and testing sets (80% training, 20% testing).\n",
    "X = df.drop(['Id', 'SalePrice'], axis=1)\n",
    "y = df['SalePrice']\n",
    "X_train, X_test, y_train, y_test = train_test_split(X, y, test_size=0.2, random_state=0)\n",
    "# Explain how you would ensure that no data leakage occurs when handling missing values, scaling, or encoding.\n",
    "###\n",
    "# Handling missing values, scaling, or encoding should be applied after data splitting to avoid data leakage through exposing the test data to the model.\n",
    "###"
   ]
  },
  {
   "cell_type": "code",
   "execution_count": 30,
   "id": "8656fd18",
   "metadata": {},
   "outputs": [
    {
     "name": "stdout",
     "output_type": "stream",
     "text": [
      "Mean Squared Error (MSE): 0.00097\n"
     ]
    }
   ],
   "source": [
    "# Model Training:\n",
    "# Train a simple linear regression model using the preprocessed features.\n",
    "lr = LinearRegression()\n",
    "lr.fit(X, y)\n",
    "# Report the training and test performance using mean squared error (MSE).\n",
    "lr_pred = lr.predict(X_test)\n",
    "# Evaluate the model’s performance on the test set and comment on the results.\n",
    "mse = round(mean_squared_error(y_test, lr_pred),5)\n",
    "print('Mean Squared Error (MSE):', mse)\n",
    "###\n",
    "# A considerably low MSE impliews that the model predictions are very close to the actual values. However, since the data preprocessing took place prior to data splitting this can lead to inaccurate evaluation results.\n",
    "###"
   ]
  }
 ],
 "metadata": {
  "kernelspec": {
   "display_name": "base",
   "language": "python",
   "name": "python3"
  },
  "language_info": {
   "codemirror_mode": {
    "name": "ipython",
    "version": 3
   },
   "file_extension": ".py",
   "mimetype": "text/x-python",
   "name": "python",
   "nbconvert_exporter": "python",
   "pygments_lexer": "ipython3",
   "version": "3.12.3"
  }
 },
 "nbformat": 4,
 "nbformat_minor": 5
}
