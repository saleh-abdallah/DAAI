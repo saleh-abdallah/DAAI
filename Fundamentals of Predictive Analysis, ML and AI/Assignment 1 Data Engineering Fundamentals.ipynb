{
 "cells": [
  {
   "cell_type": "markdown",
   "id": "072f949f",
   "metadata": {},
   "source": [
    "Name: Saleh Abdallah"
   ]
  },
  {
   "cell_type": "code",
   "execution_count": 29,
   "id": "b9466af2",
   "metadata": {},
   "outputs": [],
   "source": [
    "import pandas as pd\n",
    "import random\n",
    "import os\n",
    "import warnings\n",
    "warnings.filterwarnings('ignore')"
   ]
  },
  {
   "cell_type": "markdown",
   "id": "a2a0742b",
   "metadata": {},
   "source": [
    "Data Format Conversion"
   ]
  },
  {
   "cell_type": "code",
   "execution_count": 17,
   "id": "f1e3d184",
   "metadata": {},
   "outputs": [
    {
     "data": {
      "text/html": [
       "<div>\n",
       "<style scoped>\n",
       "    .dataframe tbody tr th:only-of-type {\n",
       "        vertical-align: middle;\n",
       "    }\n",
       "\n",
       "    .dataframe tbody tr th {\n",
       "        vertical-align: top;\n",
       "    }\n",
       "\n",
       "    .dataframe thead th {\n",
       "        text-align: right;\n",
       "    }\n",
       "</style>\n",
       "<table border=\"1\" class=\"dataframe\">\n",
       "  <thead>\n",
       "    <tr style=\"text-align: right;\">\n",
       "      <th></th>\n",
       "      <th>Name</th>\n",
       "      <th>Age</th>\n",
       "      <th>City</th>\n",
       "    </tr>\n",
       "  </thead>\n",
       "  <tbody>\n",
       "    <tr>\n",
       "      <th>0</th>\n",
       "      <td>Sophie</td>\n",
       "      <td>47</td>\n",
       "      <td>Winnipeg</td>\n",
       "    </tr>\n",
       "    <tr>\n",
       "      <th>1</th>\n",
       "      <td>Simon</td>\n",
       "      <td>36</td>\n",
       "      <td>Calgary</td>\n",
       "    </tr>\n",
       "    <tr>\n",
       "      <th>2</th>\n",
       "      <td>Sophie</td>\n",
       "      <td>21</td>\n",
       "      <td>Toronto</td>\n",
       "    </tr>\n",
       "    <tr>\n",
       "      <th>3</th>\n",
       "      <td>Chris</td>\n",
       "      <td>22</td>\n",
       "      <td>Edmonton</td>\n",
       "    </tr>\n",
       "    <tr>\n",
       "      <th>4</th>\n",
       "      <td>Davis</td>\n",
       "      <td>47</td>\n",
       "      <td>Vancouver</td>\n",
       "    </tr>\n",
       "  </tbody>\n",
       "</table>\n",
       "</div>"
      ],
      "text/plain": [
       "     Name  Age       City\n",
       "0  Sophie   47   Winnipeg\n",
       "1   Simon   36    Calgary\n",
       "2  Sophie   21    Toronto\n",
       "3   Chris   22   Edmonton\n",
       "4   Davis   47  Vancouver"
      ]
     },
     "execution_count": 17,
     "metadata": {},
     "output_type": "execute_result"
    }
   ],
   "source": [
    "# Create a dataset containing 100 records of fictional user data\n",
    "names = ['Chris', 'Simon', 'Rohit', 'Davis', 'Alex', 'Nicole', 'Amelia', 'Sophie']\n",
    "cities = ['Toronto', 'Vancouver', 'Montreal', 'Calgary', 'Ottawa', 'Edmonton', 'Winnipeg', 'Halifax']\n",
    "dataset = {\n",
    "    'Name': [random.choice(names) for i in range(100)],\n",
    "    'Age': [random.randint(15, 65) for i in range(100)],\n",
    "    'City': [random.choice(cities) for i in range(100)]\n",
    "}\n",
    "\n",
    "df = pd.DataFrame(dataset)\n",
    "df.head()"
   ]
  },
  {
   "cell_type": "code",
   "execution_count": 8,
   "id": "1fef6ece",
   "metadata": {},
   "outputs": [
    {
     "name": "stdout",
     "output_type": "stream",
     "text": [
      "<class 'pandas.core.frame.DataFrame'>\n",
      "RangeIndex: 100 entries, 0 to 99\n",
      "Data columns (total 3 columns):\n",
      " #   Column  Non-Null Count  Dtype \n",
      "---  ------  --------------  ----- \n",
      " 0   Name    100 non-null    object\n",
      " 1   Age     100 non-null    int64 \n",
      " 2   City    100 non-null    object\n",
      "dtypes: int64(1), object(2)\n",
      "memory usage: 2.5+ KB\n"
     ]
    }
   ],
   "source": [
    "df.info()"
   ]
  },
  {
   "cell_type": "code",
   "execution_count": 18,
   "id": "8d6e5fd6",
   "metadata": {},
   "outputs": [],
   "source": [
    "# Convert to CSV\n",
    "df.to_csv('sample_data.csv', index=False)"
   ]
  },
  {
   "cell_type": "code",
   "execution_count": 19,
   "id": "dc5e533b",
   "metadata": {},
   "outputs": [],
   "source": [
    "# Convert the CSV file to Parquet\n",
    "df.to_parquet('sample_data.parquet')"
   ]
  },
  {
   "cell_type": "code",
   "execution_count": null,
   "id": "c52b9754",
   "metadata": {},
   "outputs": [
    {
     "name": "stdout",
     "output_type": "stream",
     "text": [
      "CSV file size is:  1905\n",
      "Parquet file size is:  3261\n"
     ]
    }
   ],
   "source": [
    "# Compare the file sizes \n",
    "csv_size = os.path.getsize('sample_data.csv')\n",
    "parquet_size = os.path.getsize('sample_data.parquet')\n",
    "print('CSV file size is: ', csv_size)\n",
    "print('Parquet file size is: ', parquet_size)\n",
    "###\n",
    "# The CSV file is smaller than the Parquet file\n",
    "###"
   ]
  },
  {
   "cell_type": "code",
   "execution_count": null,
   "id": "de559d83",
   "metadata": {},
   "outputs": [
    {
     "data": {
      "text/html": [
       "<div>\n",
       "<style scoped>\n",
       "    .dataframe tbody tr th:only-of-type {\n",
       "        vertical-align: middle;\n",
       "    }\n",
       "\n",
       "    .dataframe tbody tr th {\n",
       "        vertical-align: top;\n",
       "    }\n",
       "\n",
       "    .dataframe thead th {\n",
       "        text-align: right;\n",
       "    }\n",
       "</style>\n",
       "<table border=\"1\" class=\"dataframe\">\n",
       "  <thead>\n",
       "    <tr style=\"text-align: right;\">\n",
       "      <th></th>\n",
       "      <th>Name</th>\n",
       "      <th>Age</th>\n",
       "      <th>City</th>\n",
       "    </tr>\n",
       "  </thead>\n",
       "  <tbody>\n",
       "    <tr>\n",
       "      <th>0</th>\n",
       "      <td>Sophie</td>\n",
       "      <td>47</td>\n",
       "      <td>Winnipeg</td>\n",
       "    </tr>\n",
       "    <tr>\n",
       "      <th>1</th>\n",
       "      <td>Simon</td>\n",
       "      <td>36</td>\n",
       "      <td>Calgary</td>\n",
       "    </tr>\n",
       "    <tr>\n",
       "      <th>2</th>\n",
       "      <td>Sophie</td>\n",
       "      <td>21</td>\n",
       "      <td>Toronto</td>\n",
       "    </tr>\n",
       "    <tr>\n",
       "      <th>3</th>\n",
       "      <td>Chris</td>\n",
       "      <td>22</td>\n",
       "      <td>Edmonton</td>\n",
       "    </tr>\n",
       "    <tr>\n",
       "      <th>4</th>\n",
       "      <td>Davis</td>\n",
       "      <td>47</td>\n",
       "      <td>Vancouver</td>\n",
       "    </tr>\n",
       "  </tbody>\n",
       "</table>\n",
       "</div>"
      ],
      "text/plain": [
       "     Name  Age       City\n",
       "0  Sophie   47   Winnipeg\n",
       "1   Simon   36    Calgary\n",
       "2  Sophie   21    Toronto\n",
       "3   Chris   22   Edmonton\n",
       "4   Davis   47  Vancouver"
      ]
     },
     "execution_count": 27,
     "metadata": {},
     "output_type": "execute_result"
    }
   ],
   "source": [
    "# Load the Parquet file back into a DataFrame\n",
    "df_parquet = pd.read_parquet('sample_data.parquet')\n",
    "df_parquet.head()"
   ]
  },
  {
   "cell_type": "markdown",
   "id": "f975f3fe",
   "metadata": {},
   "source": [
    "Implementing ETL Process"
   ]
  },
  {
   "cell_type": "code",
   "execution_count": 32,
   "id": "ff3d3068",
   "metadata": {},
   "outputs": [
    {
     "data": {
      "text/html": [
       "<div>\n",
       "<style scoped>\n",
       "    .dataframe tbody tr th:only-of-type {\n",
       "        vertical-align: middle;\n",
       "    }\n",
       "\n",
       "    .dataframe tbody tr th {\n",
       "        vertical-align: top;\n",
       "    }\n",
       "\n",
       "    .dataframe thead th {\n",
       "        text-align: right;\n",
       "    }\n",
       "</style>\n",
       "<table border=\"1\" class=\"dataframe\">\n",
       "  <thead>\n",
       "    <tr style=\"text-align: right;\">\n",
       "      <th></th>\n",
       "      <th>Age</th>\n",
       "    </tr>\n",
       "  </thead>\n",
       "  <tbody>\n",
       "    <tr>\n",
       "      <th>count</th>\n",
       "      <td>94.00</td>\n",
       "    </tr>\n",
       "    <tr>\n",
       "      <th>mean</th>\n",
       "      <td>41.45</td>\n",
       "    </tr>\n",
       "    <tr>\n",
       "      <th>std</th>\n",
       "      <td>13.44</td>\n",
       "    </tr>\n",
       "    <tr>\n",
       "      <th>min</th>\n",
       "      <td>18.00</td>\n",
       "    </tr>\n",
       "    <tr>\n",
       "      <th>25%</th>\n",
       "      <td>30.25</td>\n",
       "    </tr>\n",
       "    <tr>\n",
       "      <th>50%</th>\n",
       "      <td>40.00</td>\n",
       "    </tr>\n",
       "    <tr>\n",
       "      <th>75%</th>\n",
       "      <td>54.00</td>\n",
       "    </tr>\n",
       "    <tr>\n",
       "      <th>max</th>\n",
       "      <td>64.00</td>\n",
       "    </tr>\n",
       "  </tbody>\n",
       "</table>\n",
       "</div>"
      ],
      "text/plain": [
       "         Age\n",
       "count  94.00\n",
       "mean   41.45\n",
       "std    13.44\n",
       "min    18.00\n",
       "25%    30.25\n",
       "50%    40.00\n",
       "75%    54.00\n",
       "max    64.00"
      ]
     },
     "execution_count": 32,
     "metadata": {},
     "output_type": "execute_result"
    }
   ],
   "source": [
    "# Extract data from a CSV file.\n",
    "df = pd.read_csv('sample_data.csv')\n",
    "# Transform the data by filtering out records where the age is below 18 and converting the names to uppercase.\n",
    "df_transformation = df[df['Age'] >= 18]\n",
    "df_transformation['Name'] = df_transformation['Name'].str.upper()\n",
    "# Load the transformed data into a new CSV file.\n",
    "df_transformation.to_csv('transformed_sample_data.csv', index=False)\n",
    "# Verify the transformation by loading and displaying the new file.\n",
    "df = pd.read_csv('transformed_sample_data.csv')\n",
    "df.describe().round(2) # min age is 18"
   ]
  },
  {
   "cell_type": "code",
   "execution_count": 34,
   "id": "85241247",
   "metadata": {},
   "outputs": [
    {
     "data": {
      "text/html": [
       "<div>\n",
       "<style scoped>\n",
       "    .dataframe tbody tr th:only-of-type {\n",
       "        vertical-align: middle;\n",
       "    }\n",
       "\n",
       "    .dataframe tbody tr th {\n",
       "        vertical-align: top;\n",
       "    }\n",
       "\n",
       "    .dataframe thead th {\n",
       "        text-align: right;\n",
       "    }\n",
       "</style>\n",
       "<table border=\"1\" class=\"dataframe\">\n",
       "  <thead>\n",
       "    <tr style=\"text-align: right;\">\n",
       "      <th></th>\n",
       "      <th>Name</th>\n",
       "      <th>Age</th>\n",
       "      <th>City</th>\n",
       "    </tr>\n",
       "  </thead>\n",
       "  <tbody>\n",
       "    <tr>\n",
       "      <th>0</th>\n",
       "      <td>SOPHIE</td>\n",
       "      <td>47</td>\n",
       "      <td>Winnipeg</td>\n",
       "    </tr>\n",
       "    <tr>\n",
       "      <th>1</th>\n",
       "      <td>SIMON</td>\n",
       "      <td>36</td>\n",
       "      <td>Calgary</td>\n",
       "    </tr>\n",
       "    <tr>\n",
       "      <th>2</th>\n",
       "      <td>SOPHIE</td>\n",
       "      <td>21</td>\n",
       "      <td>Toronto</td>\n",
       "    </tr>\n",
       "    <tr>\n",
       "      <th>3</th>\n",
       "      <td>CHRIS</td>\n",
       "      <td>22</td>\n",
       "      <td>Edmonton</td>\n",
       "    </tr>\n",
       "    <tr>\n",
       "      <th>4</th>\n",
       "      <td>DAVIS</td>\n",
       "      <td>47</td>\n",
       "      <td>Vancouver</td>\n",
       "    </tr>\n",
       "  </tbody>\n",
       "</table>\n",
       "</div>"
      ],
      "text/plain": [
       "     Name  Age       City\n",
       "0  SOPHIE   47   Winnipeg\n",
       "1   SIMON   36    Calgary\n",
       "2  SOPHIE   21    Toronto\n",
       "3   CHRIS   22   Edmonton\n",
       "4   DAVIS   47  Vancouver"
      ]
     },
     "execution_count": 34,
     "metadata": {},
     "output_type": "execute_result"
    }
   ],
   "source": [
    "df.head() # all names are in uppercase"
   ]
  },
  {
   "cell_type": "markdown",
   "id": "81e815f5",
   "metadata": {},
   "source": [
    "Exploring Data Models with SQLite and MongoDB"
   ]
  },
  {
   "cell_type": "code",
   "execution_count": null,
   "id": "9332734e",
   "metadata": {},
   "outputs": [
    {
     "name": "stdout",
     "output_type": "stream",
     "text": [
      "SQLite Data:\n",
      "(1, 'Chris', 25, 'Toronto')\n",
      "(2, 'Simon', 30, 'Vancouver')\n",
      "(3, 'Davis', 19, 'Ottawa')\n",
      "(4, 'Nicole', 45, 'Montreal')\n",
      "(5, 'Sophie', 35, 'Calgary')\n"
     ]
    }
   ],
   "source": [
    "# Install SQLite and MongoDB clients on your computer.\n",
    "import sqlite3\n",
    "# Do the following tasks using python code. You can use any SQLite or MongoDB GUI to explore more operations but the deliverables for this tasks must be in python.\n",
    "conn = sqlite3.connect('users.db')\n",
    "cursor = conn.cursor()\n",
    "# Create a relational database in SQLite with a table to store user data (ID, Name, Age, City).\n",
    "cursor.execute('''\n",
    "    CREATE TABLE IF NOT EXISTS users (\n",
    "        ID INTEGER PRIMARY KEY,\n",
    "        Name TEXT,\n",
    "        Age INTEGER,\n",
    "        City TEXT\n",
    "    )\n",
    "''')\n",
    "# Insert at least 5 records into the table and retrieve the data using an SQL query in python.\n",
    "users = [\n",
    "    (1, 'Chris', 25, 'Toronto'),\n",
    "    (2, 'Simon', 30, 'Vancouver'),\n",
    "    (3, 'Davis', 19, 'Ottawa'),\n",
    "    (4, 'Nicole', 45, 'Montreal'),\n",
    "    (5, 'Sophie', 35, 'Calgary')\n",
    "]\n",
    "cursor.executemany('INSERT INTO users VALUES (?, ?, ?, ?)', users)\n",
    "conn.commit()\n",
    "# Retrieve data\n",
    "cursor.execute('SELECT * FROM users')\n",
    "rows = cursor.fetchall()\n",
    "# Display results\n",
    "print('SQLite Data:')\n",
    "for row in rows:\n",
    "    print(row)\n",
    "conn.close()"
   ]
  },
  {
   "cell_type": "code",
   "execution_count": null,
   "id": "f42f0687",
   "metadata": {},
   "outputs": [
    {
     "name": "stdout",
     "output_type": "stream",
     "text": [
      "MongoDB Data:\n",
      "{'_id': ObjectId('686f25cb8cdf23e242af4517'), 'ID': 1, 'Name': 'Chris', 'Age': 25, 'City': 'Toronto'}\n",
      "{'_id': ObjectId('686f25cb8cdf23e242af4518'), 'ID': 2, 'Name': 'Simon', 'Age': 30, 'City': 'Vancouver'}\n",
      "{'_id': ObjectId('686f25cb8cdf23e242af4519'), 'ID': 3, 'Name': 'Davis', 'Age': 19, 'City': 'Ottawa'}\n",
      "{'_id': ObjectId('686f25cb8cdf23e242af451a'), 'ID': 4, 'Name': 'Nicole', 'Age': 45, 'City': 'Montreal'}\n",
      "{'_id': ObjectId('686f25cb8cdf23e242af451b'), 'ID': 5, 'Name': 'Sophie', 'Age': 35, 'City': 'Calgary'}\n"
     ]
    }
   ],
   "source": [
    "# Create a similar dataset in MongoDB using the document model.\n",
    "from pymongo import MongoClient\n",
    "# Connect to MongoDB\n",
    "client = MongoClient('mongodb://localhost:27017/')\n",
    "# Create a database and collection\n",
    "db = client['users_db']\n",
    "collection = db['users']\n",
    "# Insert the records as documents and retrieve them using a MongoDB query.\n",
    "user_docs = [\n",
    "    {'ID': 1, 'Name': 'Chris', 'Age': 25, 'City': 'Toronto'},\n",
    "    {'ID': 2, 'Name': 'Simon', 'Age': 30, 'City': 'Vancouver'},\n",
    "    {'ID': 3, 'Name': 'Davis', 'Age': 19, 'City': 'Ottawa'},\n",
    "    {'ID': 4, 'Name': 'Nicole', 'Age': 45, 'City': 'Montreal'},\n",
    "    {'ID': 5, 'Name': 'Sophie', 'Age': 35, 'City': 'Calgary'}\n",
    "]\n",
    "collection.insert_many(user_docs)\n",
    "# Retrieve and display data\n",
    "print('MongoDB Data:')\n",
    "for doc in collection.find():\n",
    "    print(doc)\n",
    "client.close()\n",
    "# Compare the flexibility and ease of use between the two models.\n",
    "###\n",
    "# SQLite is more flexible for structured data. \n",
    "# MongoDB is more flexible, for semi-structured or unstructured data. \n",
    "###"
   ]
  }
 ],
 "metadata": {
  "kernelspec": {
   "display_name": "base",
   "language": "python",
   "name": "python3"
  },
  "language_info": {
   "codemirror_mode": {
    "name": "ipython",
    "version": 3
   },
   "file_extension": ".py",
   "mimetype": "text/x-python",
   "name": "python",
   "nbconvert_exporter": "python",
   "pygments_lexer": "ipython3",
   "version": "3.12.3"
  }
 },
 "nbformat": 4,
 "nbformat_minor": 5
}
